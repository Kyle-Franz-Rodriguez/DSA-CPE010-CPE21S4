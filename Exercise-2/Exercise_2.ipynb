{
  "nbformat": 4,
  "nbformat_minor": 0,
  "metadata": {
    "colab": {
      "provenance": [],
      "authorship_tag": "ABX9TyNdvQs+HjC4018gSJAUUagb",
      "include_colab_link": true
    },
    "kernelspec": {
      "name": "python3",
      "display_name": "Python 3"
    },
    "language_info": {
      "name": "python"
    }
  },
  "cells": [
    {
      "cell_type": "markdown",
      "metadata": {
        "id": "view-in-github",
        "colab_type": "text"
      },
      "source": [
        "<a href=\"https://colab.research.google.com/github/Kyle-Franz-Rodriguez/DSA-CPE010-CPE21S4/blob/main/Exercise-2/Exercise_2.ipynb\" target=\"_parent\"><img src=\"https://colab.research.google.com/assets/colab-badge.svg\" alt=\"Open In Colab\"/></a>"
      ]
    },
    {
      "cell_type": "code",
      "execution_count": 2,
      "metadata": {
        "id": "7WeFMtRW5B1l",
        "colab": {
          "base_uri": "https://localhost:8080/"
        },
        "outputId": "95e28a5b-3979-48ca-884e-e26ee521c209"
      },
      "outputs": [
        {
          "output_type": "stream",
          "name": "stdout",
          "text": [
            "50\n",
            "100\n",
            "25.0\n"
          ]
        }
      ],
      "source": [
        "class Shapes():\n",
        "    def __init__(self,length,width):\n",
        "        self.length=length\n",
        "        self.width=width\n",
        "    def area(self):\n",
        "        return self.length * self.width\n",
        "\n",
        "class Rectangle(Shapes):\n",
        "    def __init__(self,length,width):\n",
        "        super().__init__(length,width)\n",
        "\n",
        "class Square(Shapes):\n",
        "    def __init__(self, length):\n",
        "        super().__init__(length, length)\n",
        "\n",
        "class Triangle(Shapes):\n",
        "    def area(self):\n",
        "        triarea = super().area()\n",
        "        return triarea * 0.5\n",
        "\n",
        "#Main\n",
        "Rectangle_Area = Rectangle(10,5)\n",
        "print(Rectangle_Area.area())\n",
        "Square_Area = Square(10)\n",
        "print(Square_Area.area())\n",
        "Triangle_Area = Triangle(10,5)\n",
        "print(Triangle_Area.area())\n"
      ]
    }
  ]
}