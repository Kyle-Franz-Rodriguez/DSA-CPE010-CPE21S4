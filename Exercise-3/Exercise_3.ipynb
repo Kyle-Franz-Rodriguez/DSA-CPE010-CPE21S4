{
  "nbformat": 4,
  "nbformat_minor": 0,
  "metadata": {
    "colab": {
      "provenance": [],
      "authorship_tag": "ABX9TyN7v9rd4cUX29ffozw+aDAC",
      "include_colab_link": true
    },
    "kernelspec": {
      "name": "python3",
      "display_name": "Python 3"
    },
    "language_info": {
      "name": "python"
    }
  },
  "cells": [
    {
      "cell_type": "markdown",
      "metadata": {
        "id": "view-in-github",
        "colab_type": "text"
      },
      "source": [
        "<a href=\"https://colab.research.google.com/github/Kyle-Franz-Rodriguez/DSA-CPE010-CPE21S4/blob/main/Exercise-3/Exercise_3.ipynb\" target=\"_parent\"><img src=\"https://colab.research.google.com/assets/colab-badge.svg\" alt=\"Open In Colab\"/></a>"
      ]
    },
    {
      "cell_type": "markdown",
      "source": [
        "# **Accessing elements in Array**"
      ],
      "metadata": {
        "id": "AGmBKNtZw4fe"
      }
    },
    {
      "cell_type": "code",
      "execution_count": 1,
      "metadata": {
        "colab": {
          "base_uri": "https://localhost:8080/"
        },
        "id": "5s2GXEs1uI-4",
        "outputId": "7ad08dcc-9bb5-4bc6-e02f-4b5a0b219b6c"
      },
      "outputs": [
        {
          "output_type": "stream",
          "name": "stdout",
          "text": [
            "cat\n"
          ]
        }
      ],
      "source": [
        "animals = ['cat','dog','fish']\n",
        "x=animals[0]\n",
        "print(x)"
      ]
    },
    {
      "cell_type": "markdown",
      "source": [
        "replacing an element"
      ],
      "metadata": {
        "id": "tN59M4VvyG3d"
      }
    },
    {
      "cell_type": "code",
      "source": [
        "animals = ['cat','dog','fish']\n",
        "animals[0] = 'monkey'\n",
        "print(animals)"
      ],
      "metadata": {
        "colab": {
          "base_uri": "https://localhost:8080/"
        },
        "id": "ryeBkdFJyIqU",
        "outputId": "a3162755-3e9f-4971-de1c-a0ddfcc4e73e"
      },
      "execution_count": 3,
      "outputs": [
        {
          "output_type": "stream",
          "name": "stdout",
          "text": [
            "['monkey', 'dog', 'fish']\n"
          ]
        }
      ]
    },
    {
      "cell_type": "markdown",
      "source": [
        "for loop"
      ],
      "metadata": {
        "id": "inOMVX8MyZK8"
      }
    },
    {
      "cell_type": "code",
      "source": [
        "animals = ['cat','dog','fish']\n",
        "for x in animals:\n",
        "  print(x)"
      ],
      "metadata": {
        "colab": {
          "base_uri": "https://localhost:8080/"
        },
        "id": "x10XGgQHyZ09",
        "outputId": "c72b31e1-ee4a-4abe-c938-0dc827234e60"
      },
      "execution_count": 4,
      "outputs": [
        {
          "output_type": "stream",
          "name": "stdout",
          "text": [
            "cat\n",
            "dog\n",
            "fish\n"
          ]
        }
      ]
    },
    {
      "cell_type": "markdown",
      "source": [
        "Adding an element (in this case, 2 ways: append or insert)"
      ],
      "metadata": {
        "id": "GiB3RcMrzDO9"
      }
    },
    {
      "cell_type": "code",
      "source": [
        "#append\n",
        "animals = ['cat','dog','fish']\n",
        "animals.append('bird')\n",
        "print(animals)"
      ],
      "metadata": {
        "colab": {
          "base_uri": "https://localhost:8080/"
        },
        "id": "CVXuAayEzHyw",
        "outputId": "3e1601ab-2af1-4340-ac8d-5262d486c8ff"
      },
      "execution_count": 5,
      "outputs": [
        {
          "output_type": "stream",
          "name": "stdout",
          "text": [
            "['cat', 'dog', 'fish', 'bird']\n"
          ]
        }
      ]
    },
    {
      "cell_type": "markdown",
      "source": [
        "removing an element (in this case, 2 ways: pop or remove)\n",
        "\n"
      ],
      "metadata": {
        "id": "orcB05Smzjes"
      }
    },
    {
      "cell_type": "code",
      "source": [
        "#pop\n",
        "animals = ['cat', 'dog', 'fish', 'bird']\n",
        "animals.pop(3)\n",
        "print (animals)"
      ],
      "metadata": {
        "colab": {
          "base_uri": "https://localhost:8080/"
        },
        "id": "1NK8Iy1jzmNq",
        "outputId": "1babbd47-627a-4fad-d205-f3b35b5362a9"
      },
      "execution_count": 6,
      "outputs": [
        {
          "output_type": "stream",
          "name": "stdout",
          "text": [
            "['cat', 'dog', 'fish']\n"
          ]
        }
      ]
    },
    {
      "cell_type": "code",
      "source": [
        "#remove\n",
        "animals = ['cat', 'dog', 'fish', 'bird']\n",
        "animals.remove('bird')\n",
        "print (animals)"
      ],
      "metadata": {
        "colab": {
          "base_uri": "https://localhost:8080/"
        },
        "id": "wctUV-Zuz3f1",
        "outputId": "677de103-e24e-4848-e268-d84da50578bf"
      },
      "execution_count": 8,
      "outputs": [
        {
          "output_type": "stream",
          "name": "stdout",
          "text": [
            "['cat', 'dog', 'fish']\n"
          ]
        }
      ]
    },
    {
      "cell_type": "markdown",
      "source": [
        "reversing the order"
      ],
      "metadata": {
        "id": "MVdv_ont34pc"
      }
    },
    {
      "cell_type": "code",
      "source": [
        "animals = ['cat','dog','fish']\n",
        "animals.reverse()\n",
        "print(animals)"
      ],
      "metadata": {
        "colab": {
          "base_uri": "https://localhost:8080/"
        },
        "id": "_ZR3dFj236ob",
        "outputId": "6947b5f6-a62d-45bc-aea2-9016d82ec8c9"
      },
      "execution_count": 14,
      "outputs": [
        {
          "output_type": "stream",
          "name": "stdout",
          "text": [
            "['fish', 'dog', 'cat']\n"
          ]
        }
      ]
    }
  ]
}