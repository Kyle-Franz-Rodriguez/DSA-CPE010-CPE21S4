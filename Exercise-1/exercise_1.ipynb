{
  "nbformat": 4,
  "nbformat_minor": 0,
  "metadata": {
    "colab": {
      "provenance": [],
      "authorship_tag": "ABX9TyPHbPJX7AEziUKPJTzzEzxp",
      "include_colab_link": true
    },
    "kernelspec": {
      "name": "python3",
      "display_name": "Python 3"
    },
    "language_info": {
      "name": "python"
    }
  },
  "cells": [
    {
      "cell_type": "markdown",
      "metadata": {
        "id": "view-in-github",
        "colab_type": "text"
      },
      "source": [
        "<a href=\"https://colab.research.google.com/github/Kyle-Franz-Rodriguez/DSA-CPE010-CPE21S4/blob/main/Exercise-1/exercise_1.ipynb\" target=\"_parent\"><img src=\"https://colab.research.google.com/assets/colab-badge.svg\" alt=\"Open In Colab\"/></a>"
      ]
    },
    {
      "cell_type": "markdown",
      "source": [
        "# **Area of a rectangle**"
      ],
      "metadata": {
        "id": "_me7QPXGtO0v"
      }
    },
    {
      "cell_type": "code",
      "execution_count": 2,
      "metadata": {
        "colab": {
          "base_uri": "https://localhost:8080/"
        },
        "id": "ZUsgvja3mb0i",
        "outputId": "a54aad52-ae64-4cad-b100-00422e34dff6"
      },
      "outputs": [
        {
          "output_type": "stream",
          "name": "stdout",
          "text": [
            "Compute you rectangle\n",
            "Enter the length: 10\n",
            "Enter the width: 6\n",
            "The value of the area of your rectangle is 60\n"
          ]
        }
      ],
      "source": [
        "class rectangle:\n",
        "    def __init__(self,length,width):\n",
        "        self.length = length\n",
        "        self.width = width\n",
        "\n",
        "    def rect_area(self):\n",
        "        area=self.length * self.width\n",
        "        return area\n",
        "\n",
        "\n",
        "\n",
        "compute_length=int(input(\"Compute you rectangle\\nEnter the length: \"))\n",
        "compute_width=int(input(\"Enter the width: \"))\n",
        "\n",
        "value = rectangle(compute_length, compute_width)\n",
        "print(\"The value of the area of your rectangle is\",value.rect_area())\n"
      ]
    }
  ]
}